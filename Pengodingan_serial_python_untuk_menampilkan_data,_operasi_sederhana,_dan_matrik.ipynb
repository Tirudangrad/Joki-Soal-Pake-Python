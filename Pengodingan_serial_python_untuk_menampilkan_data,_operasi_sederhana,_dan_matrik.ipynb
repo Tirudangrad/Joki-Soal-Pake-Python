{
  "nbformat": 4,
  "nbformat_minor": 0,
  "metadata": {
    "colab": {
      "provenance": [],
      "collapsed_sections": []
    },
    "kernelspec": {
      "name": "python3",
      "display_name": "Python 3"
    },
    "language_info": {
      "name": "python"
    }
  },
  "cells": [
    {
      "cell_type": "code",
      "execution_count": 8,
      "metadata": {
        "colab": {
          "base_uri": "https://localhost:8080/"
        },
        "id": "7OQrfidwD1km",
        "outputId": "716d9031-00aa-4ad2-93c0-a1725fa46f30"
      },
      "outputs": [
        {
          "output_type": "stream",
          "name": "stdout",
          "text": [
            "kurnia diam dalam gelap, sanity : 10\n",
            "kurnia makan sanity pills, sanity : 50\n",
            "kurnia ketemu setan, sanity : 30.0\n",
            "---------\n",
            "kurnia menemukan evidence fingerprint, sanity : 0\n",
            "setannya mode hunting kurnia mati misi gagal\n",
            "nia mati\n",
            "['kurnia', 'menemukan', 'evidence', 'fingerprint']\n"
          ]
        }
      ],
      "source": [
        "#menampilkan hasil\n",
        "m = 10\n",
        "p = 40\n",
        "s = 2\n",
        "print(\"kurnia diam dalam gelap, sanity :\", m)\n",
        "print(\"kurnia makan sanity pills, sanity :\", m+p)\n",
        "print(\"kurnia ketemu setan, sanity :\", m+p/s)\n",
        "\n",
        "print('---------')\n",
        "\n",
        "#menampilkan karakter\n",
        "kurlog1 = 'kurnia menemukan evidence fingerprint'\n",
        "kurlog2 = 'setannya mode hunting'\n",
        "kurlog3 = 'kurnia mati'\n",
        "kurlog4 = ', sanity : 0'\n",
        "kurlog5 = 'misi gagal'\n",
        "print(kurlog1+''+kurlog4)\n",
        "print(kurlog2+' '+kurlog3+' '+kurlog5)\n",
        "print(kurlog3[3:11])\n",
        "print(kurlog1.split())"
      ]
    },
    {
      "cell_type": "code",
      "source": [
        "#operasi sederhana matematika\n",
        "atk = 10\n",
        "dif = 3.5\n",
        "print(atk-dif)\n",
        "print(int(dif))\n",
        "print(float(atk))"
      ],
      "metadata": {
        "id": "k8yqEupHP_yX"
      },
      "execution_count": null,
      "outputs": []
    },
    {
      "cell_type": "code",
      "source": [
        "import matplotlib.pyplot as plt\n",
        "from numpy import arange,sin,cos\n",
        "\n",
        "x = arange(0.0,6.0,0.1)\n",
        "plt.plot(x,sin(x),'o-',x,cos(x),'s-')\n",
        "plt.title('grafik sinusoidal')\n",
        "plt.xlabel('x')\n",
        "plt.ylabel('y')\n",
        "plt.legend(('sinus','cosinus'),loc=0)\n",
        "plt.grid(True)\n",
        "plt.show()"
      ],
      "metadata": {
        "id": "jeLzW1YaMvbc"
      },
      "execution_count": null,
      "outputs": []
    },
    {
      "cell_type": "code",
      "source": [
        "#SoalFisika1\n",
        "\n",
        "print(\"hitung jarak fokus lensa(f) cm pada persamaan 1/f=(n-1)*((1/R1)+(1/R2))\")\n",
        "n = 1.5 #indeks bias medium\n",
        "R1 = 20 #cm\n",
        "R2 = 18 #cm\n",
        "F = (n-1)*((1/R1)+(1/R2))\n",
        "F = 1/F\n",
        "print(\"Jarak Fokus Lensa = \", F, \"cm\")"
      ],
      "metadata": {
        "id": "u6x-HMOHZ6Lc"
      },
      "execution_count": null,
      "outputs": []
    },
    {
      "cell_type": "code",
      "source": [
        "#SoalFisika2\n",
        "\n",
        "import numpy as np\n",
        "import matplotlib.pyplot as plt\n",
        "\n",
        "print(\"Perhitungan jarak horizontal atau vertikal pada gerak parabola x=((v0**2)*np.sin(2*alpha))/(2*g)\")\n",
        "\n",
        "alpha = np.radians(45) #derajat\n",
        "g = 9.8 #gravitasi\n",
        "v0 = 10 #kecepatan awal\n",
        "v0x = v0*np.cos(alpha) #rumus v di x\n",
        "v0y = v0*np.sin(alpha) #rumus v di y\n",
        "x = v0x*t #posisi x\n",
        "y = v0y*t - 0.5*g*t**2 #posisi y\n",
        "\n",
        "X = ((v0**2)*np.sin(2*alpha))/(2*g)\n",
        "print(\"Jarak Horizontal Maksimum = \",X,\" m\")\n",
        "Y = ((v0**2)*(np.sin(alpha)**2))/(2*g)\n",
        "print(\"Jarak Vertikal Maksimum = \",Y,\" m\")\n",
        "T = (2*v0*np.sin(alpha))/g\n",
        "print(\"Waktu Mencapai Jarak Horizontal Maksimum = \",T,\" s\")\n",
        "print(\" \")\n",
        "\n",
        "t = np.arange(0.0, T, 0.01)\n",
        "\n",
        "\n",
        "plt.subplots()\n",
        "plt.plot(x, y)\n",
        "plt.xlabel('x (m)') \n",
        "plt.ylabel('y (m)')\n",
        "plt.title('Grafik Gerak Parabola')\n",
        "plt.grid(True)\n",
        "plt.show()"
      ],
      "metadata": {
        "id": "JcfNrh-JeKMC"
      },
      "execution_count": null,
      "outputs": []
    },
    {
      "cell_type": "code",
      "source": [
        "#Tugas 1\n",
        "\n",
        "n = 1.5\n",
        "R1 = 20\n",
        "R2 = 18\n",
        "F = (n-1)*((1/R1)+(1/R2))\n",
        "F = 1/F\n",
        "\n",
        "print(\"Jarak Fokus Lensa :\", F, \"cm\")"
      ],
      "metadata": {
        "colab": {
          "base_uri": "https://localhost:8080/"
        },
        "id": "GkJUJ1L9TMjM",
        "outputId": "2474044f-1e76-4099-97c3-8b19ebbc8d4d"
      },
      "execution_count": 10,
      "outputs": [
        {
          "output_type": "stream",
          "name": "stdout",
          "text": [
            "Jarak Fokus Lensa : 18.94736842105263 cm\n"
          ]
        }
      ]
    },
    {
      "cell_type": "code",
      "source": [
        "#Tugas 2\n",
        "\n",
        "alpha = np.radians(45)\n",
        "g = 9.8\n",
        "v0 = 10\n",
        "v0x = v0*np.cos(alpha)\n",
        "v0y = v0*np.sin(alpha)\n",
        "\n",
        "X = (v0**2)*np.cos(2*alpha)/(2*g)\n",
        "Y = (v0**2)*(np.sin(2*alpha)**2)/(2*g)\n",
        "T = (2*v0y)/g\n",
        "\n",
        "print(\"Jarak max horizontal =\", X, \"m\")\n",
        "print(\"Jarak max vertikal =\", Y, \"m\")\n",
        "print(\"Waktu tempuh jarak max horizontal =\", T, \"s\")\n",
        "\n",
        "import numpy as np\n",
        "import matplotlib.pyplot as plt\n",
        "\n",
        "t = np.arange(0.0,T,0.01)\n",
        "plt.plot(x, y)\n",
        "plt.title('Gerak Parabola')\n",
        "plt.xlabel('x(m)')\n",
        "plt.ylabel('y(m)')\n",
        "plt.legend(('Jarak tempuh'),loc=0)\n",
        "plt.grid(True)\n",
        "plt.show()"
      ],
      "metadata": {
        "colab": {
          "base_uri": "https://localhost:8080/",
          "height": 347
        },
        "id": "6tM4hjl9WTng",
        "outputId": "a24f507f-8c76-4ae3-aa6b-f802bb1946f6"
      },
      "execution_count": 16,
      "outputs": [
        {
          "output_type": "stream",
          "name": "stdout",
          "text": [
            "Jarak max horizontal = 3.1240989774167173e-16 m\n",
            "Jarak max vertikal = 5.1020408163265305 m\n",
            "Waktu tempuh jarak max horizontal = 1.4430750636460152 s\n"
          ]
        },
        {
          "output_type": "display_data",
          "data": {
            "text/plain": [
              "<Figure size 432x288 with 1 Axes>"
            ],
            "image/png": "[encoded data removed]"
          },
          "metadata": {
            "needs_background": "light"
          }
        }
      ]
    }
  ]
}